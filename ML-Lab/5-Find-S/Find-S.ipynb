{
 "cells": [
  {
   "cell_type": "code",
   "execution_count": 7,
   "metadata": {},
   "outputs": [],
   "source": [
    "# Importing libraries\n",
    "import numpy as np\n",
    "import pandas as pd"
   ]
  },
  {
   "cell_type": "code",
   "execution_count": 8,
   "metadata": {},
   "outputs": [
    {
     "name": "stdout",
     "output_type": "stream",
     "text": [
      "Attributes are:  ['sky', 'temp', 'humidity', 'wind', 'water', 'forecast'] \n",
      "\n",
      "Dataset is: [['sunny', 'warm', 'normal', 'strong', 'warm', 'same', 'Yes'], ['sunny', 'warm', 'high', 'strong', 'warm', 'same', 'Yes'], ['rainy', 'cold', 'high', 'strong', 'warm', 'change', 'No'], ['sunny', 'warm', 'high', 'strong', 'cool', 'change', 'Yes']] \n",
      "\n"
     ]
    }
   ],
   "source": [
    "# Importing dataset 'enjoysport.csv'\n",
    "dataset = np.array(pd.read_csv('../datasets/enjoysport.csv'))\n",
    "\n",
    "dataset = dataset.tolist()\n",
    "\n",
    "# print(dataset)\n",
    "\n",
    "# Defining attributes of dataset\n",
    "attributes = ['sky','temp','humidity','wind','water','forecast']\n",
    "\n",
    "num_attributes = len(attributes)\n",
    "\n",
    "print(\"Attributes are: \",attributes,\"\\n\")\n",
    "\n",
    "print(\"Dataset is:\",dataset,\"\\n\")"
   ]
  },
  {
   "cell_type": "code",
   "execution_count": 9,
   "metadata": {},
   "outputs": [
    {
     "name": "stdout",
     "output_type": "stream",
     "text": [
      "Initial hypothesis is: ['0', '0', '0', '0', '0', '0']\n"
     ]
    }
   ],
   "source": [
    "# Defining Initial Specific Hypothesis\n",
    "hypothesis = ['0']*num_attributes\n",
    "\n",
    "print(\"Initial hypothesis is:\", hypothesis) "
   ]
  },
  {
   "cell_type": "code",
   "execution_count": 18,
   "metadata": {},
   "outputs": [
    {
     "name": "stdout",
     "output_type": "stream",
     "text": [
      "Find S: Finding a maximally specific hypothesis\n",
      "\n",
      "Iteration 1\n",
      "['sunny', 'warm', 'normal', 'strong', 'warm', 'same'] \n",
      "\n",
      "Iteration  2\n",
      "['sunny', 'warm', '?', 'strong', 'warm', 'same'] \n",
      "\n",
      "Iteration  3  (ignored)\n",
      "\n",
      "Iteration  4\n",
      "['sunny', 'warm', '?', 'strong', 'warm', 'same'] \n",
      "\n",
      "Iteration  4\n",
      "['sunny', 'warm', '?', 'strong', '?', 'same'] \n",
      "\n",
      "Iteration  4\n",
      "['sunny', 'warm', '?', 'strong', '?', '?'] \n",
      "\n",
      "The maximally specific hypothesis is\n",
      "['sunny', 'warm', '?', 'strong', '?', '?']\n"
     ]
    }
   ],
   "source": [
    "# Find S Algorithm\n",
    "print(\"Find S: Finding a maximally specific hypothesis\\n\")\n",
    "\n",
    "# First Iteration\n",
    "for i in range(num_attributes):\n",
    "    hypothesis[i]=dataset[0][i]\n",
    "\n",
    "print(\"Iteration 1\")\n",
    "print(hypothesis,\"\\n\")\n",
    "\n",
    "# n iterations, n: 2,...,n\n",
    "# Here, it is 4, i.e., the size of the dataset\n",
    "for j in range(len(dataset)):\n",
    "\n",
    "    # Checking if the last column of every row is positive\n",
    "    # (Ignore if negative)\n",
    "    if dataset[j][num_attributes]==\"Yes\":\n",
    "        for k in range(num_attributes):\n",
    "\n",
    "            # Checking if hypothesis is too specific\n",
    "            if dataset[j][k]!=hypothesis[k]:\n",
    "\n",
    "                # Generalizes/Updates if too specific\n",
    "                hypothesis[k]=\"?\"\n",
    "                print(\"Iteration \",j+1)\n",
    "                print(hypothesis,\"\\n\")        \n",
    "    else:\n",
    "        print(\"Iteration \",j+1,\" (ignored)\\n\")\n",
    "        continue\n",
    "\n",
    "print(\"The maximally specific hypothesis is\")\n",
    "print(hypothesis)"
   ]
  },
  {
   "cell_type": "code",
   "execution_count": null,
   "metadata": {},
   "outputs": [],
   "source": []
  }
 ],
 "metadata": {
  "kernelspec": {
   "display_name": "Python 3",
   "language": "python",
   "name": "python3"
  },
  "language_info": {
   "codemirror_mode": {
    "name": "ipython",
    "version": 3
   },
   "file_extension": ".py",
   "mimetype": "text/x-python",
   "name": "python",
   "nbconvert_exporter": "python",
   "pygments_lexer": "ipython3",
   "version": "3.10.7"
  },
  "orig_nbformat": 4
 },
 "nbformat": 4,
 "nbformat_minor": 2
}
