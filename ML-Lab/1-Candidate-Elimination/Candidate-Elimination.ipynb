{
 "cells": [
  {
   "cell_type": "code",
   "execution_count": 10,
   "metadata": {},
   "outputs": [
    {
     "name": "stdout",
     "output_type": "stream",
     "text": [
      "\n",
      " The Given Training Data Set\n"
     ]
    }
   ],
   "source": [
    "import pandas as pd\n",
    "import numpy as np\n",
    "\n",
    "\n",
    "print(\"\\n The Given Training Data Set\")\n",
    "\n",
    "a = np.array(pd.read_csv('../datasets/enjoysport.csv'))\n",
    "a = a.tolist()"
   ]
  },
  {
   "cell_type": "code",
   "execution_count": 11,
   "metadata": {},
   "outputs": [
    {
     "name": "stdout",
     "output_type": "stream",
     "text": [
      "\n",
      " The initial value of hypothesis: \n",
      "\n",
      " The most specific hypothesis S0 : [0,0,0,0,0,0]\n",
      " \n",
      " The most general hypothesis G0 : [?,?,?,?,?,?]\n"
     ]
    }
   ],
   "source": [
    "num_attributes = len(a[0])-1\n",
    "\n",
    "print(\"\\n The initial value of hypothesis: \")\n",
    "\n",
    "S = ['0'] * num_attributes\n",
    "\n",
    "G = ['?'] * num_attributes\n",
    "\n",
    "print (\"\\n The most specific hypothesis S0 : [0,0,0,0,0,0]\")\n",
    "\n",
    "print (\" \\n The most general hypothesis G0 : [?,?,?,?,?,?]\")"
   ]
  },
  {
   "cell_type": "code",
   "execution_count": 12,
   "metadata": {},
   "outputs": [],
   "source": [
    "for j in range(0,num_attributes):\n",
    "    S[j]=a[0][j]"
   ]
  },
  {
   "cell_type": "code",
   "execution_count": 13,
   "metadata": {},
   "outputs": [
    {
     "name": "stdout",
     "output_type": "stream",
     "text": [
      "\n",
      " Candidate Elimination algorithm Hypotheses Version Space Computation\n",
      "\n",
      "----------------------------------------------------------------------------- \n",
      " For Training Example No :1 the hypothesis is S1  ['sunny', 'warm', 'high', 'strong', 'warm', 'same']\n",
      " For Training Example No :1 the hypothesis is G1  ['?', '?', '?', '?', '?', '?']\n",
      "----------------------------------------------------------------------------- \n",
      " For Training Example No :2 the hypothesis is S2  ['sunny', 'warm', 'high', 'strong', 'warm', 'same']\n",
      " For Training Example No :2 the hypothesis is G2 [['sunny', '?', '?', '?', '?', '?'], ['?', 'warm', '?', '?', '?', '?'], ['?', '?', '?', '?', '?', 'same']]\n",
      "----------------------------------------------------------------------------- \n",
      " For Training Example No :3 the hypothesis is S3  ['sunny', 'warm', 'high', 'strong', '?', '?']\n",
      " For  Positive Training Example No :3 the hypothesis is G3 [['sunny', '?', '?', '?', '?', '?'], ['?', 'warm', '?', '?', '?', '?']]\n"
     ]
    }
   ],
   "source": [
    "print(\"\\n Candidate Elimination algorithm Hypotheses Version Space Computation\\n\")\n",
    "\n",
    "temp=[]\n",
    "\n",
    "for i in range(0,len(a)):\n",
    "    if a[i][num_attributes]=='Yes':\n",
    "        for j in range(0,num_attributes):\n",
    "            if a[i][j]!=S[j]:\n",
    "                S[j]='?'\n",
    "        for j in range(0,num_attributes):\n",
    "            for k in range(1,len(temp)):\n",
    "                if temp[k][j]!='?' and temp[k][j]!=S[j]:\n",
    "                    del temp[k]\n",
    "        print(\"----------------------------------------------------------------------------- \")\n",
    "        print(\" For Training Example No :{0} the hypothesis is S{0} \".format(i+1),S)\n",
    "        if (len(temp)==0):\n",
    "            print(\" For Training Example No :{0} the hypothesis is G{0} \".format(i+1),G)\n",
    "        else:\n",
    "            print(\" For  Positive Training Example No :{0} the hypothesis is G{0}\".format(i+1),temp)\n",
    "    if a[i][num_attributes]=='No':\n",
    "        for j in range(0,num_attributes):\n",
    "            if S[j] != a[i][j] and S[j]!= '?':\n",
    "                G[j]=S[j]\n",
    "                temp.append(G)\n",
    "                G = ['?'] * num_attributes\n",
    "        \n",
    "        print(\"----------------------------------------------------------------------------- \")\n",
    "        \n",
    "        print(\" For Training Example No :{0} the hypothesis is S{0} \".format(i+1),S)\n",
    "        \n",
    "        print(\" For Training Example No :{0} the hypothesis is G{0}\".format(i+1),temp)"
   ]
  },
  {
   "cell_type": "code",
   "execution_count": null,
   "metadata": {},
   "outputs": [],
   "source": []
  }
 ],
 "metadata": {
  "kernelspec": {
   "display_name": "Python 3",
   "language": "python",
   "name": "python3"
  },
  "language_info": {
   "codemirror_mode": {
    "name": "ipython",
    "version": 3
   },
   "file_extension": ".py",
   "mimetype": "text/x-python",
   "name": "python",
   "nbconvert_exporter": "python",
   "pygments_lexer": "ipython3",
   "version": "3.10.6"
  },
  "orig_nbformat": 4
 },
 "nbformat": 4,
 "nbformat_minor": 2
}
