{
 "cells": [
  {
   "cell_type": "code",
   "execution_count": 1,
   "metadata": {},
   "outputs": [],
   "source": [
    "# Import libraries\n",
    "import pandas as pd\n",
    "import numpy as np"
   ]
  },
  {
   "cell_type": "code",
   "execution_count": 2,
   "metadata": {},
   "outputs": [
    {
     "name": "stdout",
     "output_type": "stream",
     "text": [
      "The dataset is:\n"
     ]
    },
    {
     "data": {
      "text/plain": [
       "[['sunny', 'warm', 'normal', 'strong', 'warm', 'same', 'Yes'],\n",
       " ['sunny', 'warm', 'high', 'strong', 'warm', 'same', 'Yes'],\n",
       " ['rainy', 'cold', 'high', 'strong', 'warm', 'change', 'No'],\n",
       " ['sunny', 'warm', 'high', 'strong', 'cool', 'change', 'Yes']]"
      ]
     },
     "execution_count": 2,
     "metadata": {},
     "output_type": "execute_result"
    }
   ],
   "source": [
    "# Importing a dataset 'enjoysport.csv'\n",
    "\n",
    "data = np.array(pd.read_csv('../datasets/enjoysport.csv'))\n",
    "data = data.tolist()\n",
    "\n",
    "print(\"The dataset is:\")\n",
    "data"
   ]
  },
  {
   "cell_type": "code",
   "execution_count": 3,
   "metadata": {},
   "outputs": [
    {
     "name": "stdout",
     "output_type": "stream",
     "text": [
      "Initial hypotheses\n",
      "\n",
      "The most specific hypothesis is S0:  ['0', '0', '0', '0', '0', '0']\n",
      "\n",
      "The most general hypothesis is G0:  ['?', '?', '?', '?', '?', '?']\n"
     ]
    }
   ],
   "source": [
    "num_attributes = len(data[0])-1\n",
    "\n",
    "# Defining initial values of the most specific and the most general hypotheses\n",
    "print(\"Initial hypotheses\")\n",
    "\n",
    "# Most specific hypothesis\n",
    "S = ['0']*num_attributes\n",
    "\n",
    "# Most general hypothesis\n",
    "G = ['?']*num_attributes\n",
    "\n",
    "print(\"\\nThe most specific hypothesis is S0: \",S)\n",
    "\n",
    "print(\"\\nThe most general hypothesis is G0: \",G)\n"
   ]
  },
  {
   "cell_type": "code",
   "execution_count": 4,
   "metadata": {},
   "outputs": [
    {
     "name": "stdout",
     "output_type": "stream",
     "text": [
      "Candidate Elimination Algorithm - Computation of a Version Space\n",
      "\n",
      "Iteration 1\n",
      "S1:  ['sunny', 'warm', 'normal', 'strong', 'warm', 'same']\n",
      "G1: ['?', '?', '?', '?', '?', '?']\n",
      "\n",
      "Iteration 2\n",
      "S2:  ['sunny', 'warm', '?', 'strong', 'warm', 'same']\n",
      "G2: ['?', '?', '?', '?', '?', '?']\n",
      "\n",
      "Iteration 3\n",
      "S3:  ['sunny', 'warm', '?', 'strong', 'warm', 'same']\n",
      "G3:  [['sunny', '?', '?', '?', '?', '?'], ['?', 'warm', '?', '?', '?', '?'], ['?', '?', '?', '?', '?', 'same']]\n",
      "\n",
      "Iteration 4\n",
      "S4:  ['sunny', 'warm', '?', 'strong', '?', '?']\n",
      "G4: [['sunny', '?', '?', '?', '?', '?'], ['?', 'warm', '?', '?', '?', '?']]\n",
      "\n",
      "Resultant Version Space is\n",
      "S4:  ['sunny', 'warm', '?', 'strong', '?', '?']\n",
      "G4:  [['sunny', '?', '?', '?', '?', '?'], ['?', 'warm', '?', '?', '?', '?']]\n"
     ]
    }
   ],
   "source": [
    "print(\"Candidate Elimination Algorithm - Computation of a Version Space\")\n",
    "\n",
    "temp = []\n",
    "\n",
    "# First Iteration\n",
    "for i in range(num_attributes):\n",
    "    S[i]=data[0][i]\n",
    "\n",
    "for j in range(len(data)):\n",
    "    \n",
    "    # Checking if hypothesis is positive\n",
    "    if data[j][num_attributes]=='Yes':\n",
    "        for k in range(num_attributes):\n",
    "            \n",
    "            # Checking if hypothesis is too specific\n",
    "            if data[j][k] != S[k]:\n",
    "                S[k] = '?'\n",
    "\n",
    "        for k in range(num_attributes):\n",
    "            for l in range(1,len(temp)):\n",
    "                if temp[l][k] != '?' and temp[l][k] != S[k]:\n",
    "                    del temp[l]\n",
    "\n",
    "        print(\"\\nIteration {0}\".format(j+1))\n",
    "        print(\"S{0}: \".format(j+1),S)\n",
    "        if(len(temp)==0):\n",
    "            print(\"G{0}:\".format(j+1),G)\n",
    "        else:\n",
    "            print(\"G{0}:\".format(j+1),temp)\n",
    "\n",
    "    # Checking if hypothesis is negative\n",
    "    elif data[j][num_attributes] == 'No':\n",
    "        for k in range(num_attributes):\n",
    "            if S[k] != data[j][k] and S[k] != '?':\n",
    "                G[k]=S[k]\n",
    "                temp.append(G)\n",
    "                G=['?']*num_attributes\n",
    "    \n",
    "        print(\"\\nIteration {0}\".format(j+1))\n",
    "        print(\"S{0}: \".format(j+1),S)\n",
    "        print(\"G{0}: \".format(j+1),temp)\n",
    "\n",
    "\n",
    "print(\"\\nResultant Version Space is\")\n",
    "print(\"S{0}: \".format(j+1),S)\n",
    "print(\"G{0}: \".format(j+1),temp)"
   ]
  },
  {
   "cell_type": "code",
   "execution_count": null,
   "metadata": {},
   "outputs": [],
   "source": []
  }
 ],
 "metadata": {
  "kernelspec": {
   "display_name": "Python 3",
   "language": "python",
   "name": "python3"
  },
  "language_info": {
   "codemirror_mode": {
    "name": "ipython",
    "version": 3
   },
   "file_extension": ".py",
   "mimetype": "text/x-python",
   "name": "python",
   "nbconvert_exporter": "python",
   "pygments_lexer": "ipython3",
   "version": "3.10.7"
  },
  "orig_nbformat": 4
 },
 "nbformat": 4,
 "nbformat_minor": 2
}
