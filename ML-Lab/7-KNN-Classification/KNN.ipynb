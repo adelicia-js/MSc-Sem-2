{
 "cells": [
  {
   "cell_type": "code",
   "execution_count": 13,
   "metadata": {},
   "outputs": [],
   "source": [
    "# Import libraries\n",
    "import numpy as np\n",
    "import pandas as pd\n",
    "from sklearn.model_selection import train_test_split\n",
    "from sklearn.neighbors import KNeighborsClassifier\n",
    "from sklearn.metrics import accuracy_score, confusion_matrix, classification_report"
   ]
  },
  {
   "cell_type": "code",
   "execution_count": 14,
   "metadata": {},
   "outputs": [
    {
     "name": "stdout",
     "output_type": "stream",
     "text": [
      "Index(['sepal.length', 'sepal.width', 'petal.length', 'petal.width',\n",
      "       'variety'],\n",
      "      dtype='object')\n"
     ]
    },
    {
     "data": {
      "text/plain": [
       "array(['Setosa', 'Versicolor', 'Virginica'], dtype=object)"
      ]
     },
     "execution_count": 14,
     "metadata": {},
     "output_type": "execute_result"
    }
   ],
   "source": [
    "# Importing a dataset 'iris.csv'\n",
    "data = pd.read_csv('../datasets/iris.csv')\n",
    "\n",
    "# data.head()\n",
    "print(data.columns)\n",
    "\n",
    "# Identifying the class names\n",
    "data.variety.unique()"
   ]
  },
  {
   "cell_type": "code",
   "execution_count": 15,
   "metadata": {},
   "outputs": [],
   "source": [
    "# Splitting dataset into features and target variable\n",
    "\n",
    "# Features\n",
    "X = data[['sepal.length', 'sepal.width', 'petal.length', 'petal.width']]\n",
    "X.columns = ['sepal_length', 'sepal_width', 'petal_length', 'petal_width']\n",
    "\n",
    "# Target Variable\n",
    "y = data['variety'].replace({'Setosa':0,'Versicolor':1,'Virginica':2})"
   ]
  },
  {
   "cell_type": "code",
   "execution_count": 16,
   "metadata": {},
   "outputs": [],
   "source": [
    "# Splitting dataset into training and testing data\n",
    "X_train, X_test, y_train, y_test = train_test_split(X,y,test_size=0.3,random_state=2,shuffle=True)"
   ]
  },
  {
   "cell_type": "code",
   "execution_count": 17,
   "metadata": {},
   "outputs": [
    {
     "name": "stdout",
     "output_type": "stream",
     "text": [
      "Predicted values:\n",
      " [0, 0, 2, 0, 0, 2, 0, 2, 2, 0, 0, 0, 0, 0, 1, 1, 0, 1, 2, 1, 1, 1, 2, 1, 1, 0, 0, 2, 0, 2, 2, 0, 1, 2, 1, 0, 2, 1, 1, 2, 1, 1, 2, 1, 0]\n",
      "\n",
      "Actual values:\n",
      " [0, 0, 2, 0, 0, 2, 0, 2, 2, 0, 0, 0, 0, 0, 1, 1, 0, 1, 2, 1, 1, 1, 2, 1, 1, 0, 0, 2, 0, 2, 2, 0, 1, 2, 1, 0, 2, 1, 1, 2, 1, 1, 2, 1, 0]\n"
     ]
    }
   ],
   "source": [
    "# Creating a model\n",
    "model = KNeighborsClassifier(n_neighbors=3)\n",
    "\n",
    "# Training the model\n",
    "model.fit(X_train,y_train)\n",
    "\n",
    "# Forming a prediction\n",
    "y_pred = np.array(model.predict(X_test))\n",
    "print(\"Predicted values:\\n\",list(y_pred))\n",
    "\n",
    "y_test = np.array(y_test)\n",
    "print(\"\\nActual values:\\n\",list(y_test))"
   ]
  },
  {
   "cell_type": "code",
   "execution_count": 18,
   "metadata": {},
   "outputs": [
    {
     "name": "stdout",
     "output_type": "stream",
     "text": [
      "Differences between predicted and actual values are\n",
      "[0 0 0 0 0 0 0 0 0 0 0 0 0 0 0 0 0 0 0 0 0 0 0 0 0 0 0 0 0 0 0 0 0 0 0 0 0\n",
      " 0 0 0 0 0 0 0 0]\n",
      "\n",
      "Number of incorrect classifications are  0\n"
     ]
    }
   ],
   "source": [
    "# Differences between predicted and actual values\n",
    "diff = y_pred - y_test\n",
    "\n",
    "print(\"Differences between predicted and actual values are\")\n",
    "print(diff)\n",
    "\n",
    "print(\"\\nNumber of incorrect classifications are \",(len(diff) - list(diff).count(0)))"
   ]
  },
  {
   "cell_type": "code",
   "execution_count": 19,
   "metadata": {},
   "outputs": [
    {
     "name": "stdout",
     "output_type": "stream",
     "text": [
      "The model is 100.0 % accurate!\n"
     ]
    }
   ],
   "source": [
    "# Printing accuracy score\n",
    "print(\"The model is\",(accuracy_score(y_pred,y_test))*100,\"% accurate!\")"
   ]
  },
  {
   "cell_type": "code",
   "execution_count": 20,
   "metadata": {},
   "outputs": [
    {
     "name": "stdout",
     "output_type": "stream",
     "text": [
      "The confusion matrix below describes how accurate the model is\n",
      "\n",
      "Confusion Matrix\n",
      "\n",
      " [[17  0  0]\n",
      " [ 0 15  0]\n",
      " [ 0  0 13]]\n",
      "\n",
      "True Positives(TP)  17\n",
      "\n",
      "True Negatives(TN)  0\n",
      "\n",
      "False Positives(FP)  0\n",
      "\n",
      "False Negatives(FN)  15\n"
     ]
    }
   ],
   "source": [
    "# Printing a confusion matrix\n",
    "print(\"The confusion matrix below describes how accurate the model is\")\n",
    "\n",
    "cm = confusion_matrix(y_test,y_pred)\n",
    "\n",
    "print(\"\\nConfusion Matrix\\n\\n\", cm)\n",
    "\n",
    "print(\"\\nTrue Positives(TP) \", cm[0,0])\n",
    "\n",
    "print(\"\\nTrue Negatives(TN) \", cm[0,1])\n",
    "\n",
    "print(\"\\nFalse Positives(FP) \", cm[1,0])\n",
    "\n",
    "print(\"\\nFalse Negatives(FN) \", cm[1,1])"
   ]
  },
  {
   "cell_type": "code",
   "execution_count": 21,
   "metadata": {},
   "outputs": [
    {
     "name": "stdout",
     "output_type": "stream",
     "text": [
      "Classification Report\n",
      "\n",
      "              precision    recall  f1-score   support\n",
      "\n",
      "           0       1.00      1.00      1.00        17\n",
      "           1       1.00      1.00      1.00        15\n",
      "           2       1.00      1.00      1.00        13\n",
      "\n",
      "    accuracy                           1.00        45\n",
      "   macro avg       1.00      1.00      1.00        45\n",
      "weighted avg       1.00      1.00      1.00        45\n",
      "\n"
     ]
    }
   ],
   "source": [
    "# Printing a classification report\n",
    "print(\"Classification Report\\n\")\n",
    "print(classification_report(y_test,y_pred))"
   ]
  },
  {
   "cell_type": "code",
   "execution_count": null,
   "metadata": {},
   "outputs": [],
   "source": []
  }
 ],
 "metadata": {
  "kernelspec": {
   "display_name": "Python 3",
   "language": "python",
   "name": "python3"
  },
  "language_info": {
   "codemirror_mode": {
    "name": "ipython",
    "version": 3
   },
   "file_extension": ".py",
   "mimetype": "text/x-python",
   "name": "python",
   "nbconvert_exporter": "python",
   "pygments_lexer": "ipython3",
   "version": "3.10.7"
  },
  "orig_nbformat": 4
 },
 "nbformat": 4,
 "nbformat_minor": 2
}
